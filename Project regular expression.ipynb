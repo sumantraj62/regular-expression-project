{
 "cells": [
  {
   "cell_type": "code",
   "execution_count": 1,
   "id": "27bef967-879c-46d2-978d-cf1673a47c1c",
   "metadata": {},
   "outputs": [],
   "source": [
    "import re"
   ]
  },
  {
   "cell_type": "code",
   "execution_count": 55,
   "id": "7640ca00-1931-4335-acd1-81d76b1981ac",
   "metadata": {},
   "outputs": [
    {
     "name": "stdout",
     "output_type": "stream",
     "text": [
      "Python:Exercises::PHP:exercises:\n"
     ]
    }
   ],
   "source": [
    "string = 'Python Exercises, PHP exercises.'\n",
    "result = re.sub(r'[ ,.]', ':', string)\n",
    "print(result)"
   ]
  },
  {
   "cell_type": "code",
   "execution_count": 53,
   "id": "f92ebe58-2d35-4fd4-ad9f-6acad83ac5b5",
   "metadata": {},
   "outputs": [
    {
     "name": "stdout",
     "output_type": "stream",
     "text": [
      "         SUMMARY\n",
      "0    hello world\n",
      "1     XXXXX test\n",
      "2  four five six\n"
     ]
    }
   ],
   "source": [
    "import pandas as pd\n",
    "import re\n",
    "data_dict = {'SUMMARY': ['hello, world!', 'XXXXX test', '123four, five:; six...']}\n",
    "df = pd.DataFrame(data_dict)\n",
    "def clean_text(text):\n",
    "    return re.sub(r'[^a-zA-Z\\s]', '', text)\n",
    "df['SUMMARY'] = df['SUMMARY'].apply(clean_text)\n",
    "print(df)"
   ]
  },
  {
   "cell_type": "code",
   "execution_count": 51,
   "id": "af8356a3-0736-4d9d-9258-53038e2c6e0c",
   "metadata": {},
   "outputs": [
    {
     "name": "stdout",
     "output_type": "stream",
     "text": [
      "['Sumant', 'student', 'data', 'trained', 'from', 'month', 'learn', 'about', 'data', 'scientist', 'internship', 'FLIP', 'ROBO', 'company']\n"
     ]
    }
   ],
   "source": [
    "target_string = \"Sumant raj is a student in data trained from six month and learn about data scientist now he is on internship in FLIP ROBO company,\"\n",
    "pattern = re.compile(r\"\\b\\w{4,}\\b\")\n",
    "result = pattern.findall(target_string)\n",
    "print(result)"
   ]
  },
  {
   "cell_type": "code",
   "execution_count": 27,
   "id": "55a400a2-069c-4f5a-af50-045dfafe696a",
   "metadata": {},
   "outputs": [
    {
     "name": "stdout",
     "output_type": "stream",
     "text": [
      "['raj', 'data', 'from', 'six', 'month', 'and', 'learn', 'about', 'data', 'now', 'FLIP', 'ROBO']\n"
     ]
    }
   ],
   "source": [
    "target_string = \"Sumant raj is a student in data trained from six month and learn about data scientist now he is on internship in FLIP ROBO,\"\n",
    "pattern = re.compile(r\"\\b\\w{3,5}\\b\")\n",
    "result = pattern.findall(target_string)\n",
    "print(result)"
   ]
  },
  {
   "cell_type": "code",
   "execution_count": 33,
   "id": "56c40a6f-db3e-4da3-813d-f50889afd52a",
   "metadata": {},
   "outputs": [
    {
     "name": "stdout",
     "output_type": "stream",
     "text": [
      "['example (.com)', 'hr@fliprobo (.com)', 'github (.com)', 'Hello (Data Science World)', 'Data (Scientist)']\n"
     ]
    }
   ],
   "source": [
    "def remove_parentheses(text_list):\n",
    "    pattern = re.compile(r'\\s\\str(.)')\n",
    "    result = [pattern.sub('', text) for text in text_list]\n",
    "    return result\n",
    "sample_text = [\"example (.com)\", \"hr@fliprobo (.com)\", \"github (.com)\", \"Hello (Data Science World)\", \"Data (Scientist)\"]\n",
    "print(remove_parentheses(sample_text))"
   ]
  },
  {
   "cell_type": "code",
   "execution_count": 11,
   "id": "25ff647b-9dcb-4bd3-a757-ceb20f693769",
   "metadata": {},
   "outputs": [
    {
     "name": "stdout",
     "output_type": "stream",
     "text": [
      "['Importance', 'Of', 'Regular', 'Expression', 'In', 'Python']\n"
     ]
    }
   ],
   "source": [
    "sample_text = \"ImportanceOfRegularExpressionInPython\"\n",
    "pattern = re.compile(r'[A-Z][^A-Z]*')\n",
    "result = pattern.findall(sample_text)\n",
    "print(result)"
   ]
  },
  {
   "cell_type": "code",
   "execution_count": 37,
   "id": "ca8cce1c-57e7-45ed-ad14-d580ac8be021",
   "metadata": {},
   "outputs": [
    {
     "name": "stdout",
     "output_type": "stream",
     "text": [
      "RegularExpression 1IsAN 2ImportantTopic 3InPython\n"
     ]
    }
   ],
   "source": [
    "sample_text = \"RegularExpression1IsAN2ImportantTopic3InPython\"\n",
    "pattern = r'(\\d)'\n",
    "result = re.sub(pattern, r' \\1', sample_text)\n",
    "print(result)"
   ]
  },
  {
   "cell_type": "code",
   "execution_count": 109,
   "id": "4fa375ee-deca-4123-a25d-aa4bce932118",
   "metadata": {},
   "outputs": [
    {
     "name": "stdout",
     "output_type": "stream",
     "text": [
      "Regular Expression 1 Is An 2 Important Topic 3 In Python\n"
     ]
    }
   ],
   "source": [
    "import re\n",
    "def insert_spaces(text):\n",
    "    words = re.findall('[A-Z\\d][^A-Z\\d]*', text)\n",
    "    return ' '.join(words)\n",
    "text = \"RegularExpression1IsAn2ImportantTopic3InPython\"\n",
    "result = insert_spaces(text)\n",
    "print(result)"
   ]
  },
  {
   "cell_type": "code",
   "execution_count": 43,
   "id": "b18ba870-3ec8-45fa-935b-d788c037f796",
   "metadata": {},
   "outputs": [
    {
     "name": "stdout",
     "output_type": "stream",
     "text": [
      "         Country                           Region  Happiness Rank  \\\n",
      "0    Switzerland                   Western Europe               1   \n",
      "1        Iceland                   Western Europe               2   \n",
      "2        Denmark                   Western Europe               3   \n",
      "3         Norway                   Western Europe               4   \n",
      "4         Canada                    North America               5   \n",
      "..           ...                              ...             ...   \n",
      "153       Rwanda               Sub-Saharan Africa             154   \n",
      "154        Benin               Sub-Saharan Africa             155   \n",
      "155        Syria  Middle East and Northern Africa             156   \n",
      "156      Burundi               Sub-Saharan Africa             157   \n",
      "157         Togo               Sub-Saharan Africa             158   \n",
      "\n",
      "     Happiness Score  Standard Error  Economy (GDP per Capita)   Family  \\\n",
      "0              7.587         0.03411                   1.39651  1.34951   \n",
      "1              7.561         0.04884                   1.30232  1.40223   \n",
      "2              7.527         0.03328                   1.32548  1.36058   \n",
      "3              7.522         0.03880                   1.45900  1.33095   \n",
      "4              7.427         0.03553                   1.32629  1.32261   \n",
      "..               ...             ...                       ...      ...   \n",
      "153            3.465         0.03464                   0.22208  0.77370   \n",
      "154            3.340         0.03656                   0.28665  0.35386   \n",
      "155            3.006         0.05015                   0.66320  0.47489   \n",
      "156            2.905         0.08658                   0.01530  0.41587   \n",
      "157            2.839         0.06727                   0.20868  0.13995   \n",
      "\n",
      "     Health (Life Expectancy)  Freedom  Trust (Government Corruption)  \\\n",
      "0                     0.94143  0.66557                        0.41978   \n",
      "1                     0.94784  0.62877                        0.14145   \n",
      "2                     0.87464  0.64938                        0.48357   \n",
      "3                     0.88521  0.66973                        0.36503   \n",
      "4                     0.90563  0.63297                        0.32957   \n",
      "..                        ...      ...                            ...   \n",
      "153                   0.42864  0.59201                        0.55191   \n",
      "154                   0.31910  0.48450                        0.08010   \n",
      "155                   0.72193  0.15684                        0.18906   \n",
      "156                   0.22396  0.11850                        0.10062   \n",
      "157                   0.28443  0.36453                        0.10731   \n",
      "\n",
      "     Generosity  Dystopia Residual first_five_letters  \n",
      "0       0.29678            2.51738             Switze  \n",
      "1       0.43630            2.70201             Icelan  \n",
      "2       0.34139            2.49204             Denmar  \n",
      "3       0.34699            2.46531             Norway  \n",
      "4       0.45811            2.45176             Canada  \n",
      "..          ...                ...                ...  \n",
      "153     0.22628            0.67042             Rwanda  \n",
      "154     0.18260            1.63328              Benin  \n",
      "155     0.47179            0.32858              Syria  \n",
      "156     0.19727            1.83302             Burund  \n",
      "157     0.16681            1.56726               Togo  \n",
      "\n",
      "[158 rows x 13 columns]\n"
     ]
    }
   ],
   "source": [
    "import re\n",
    "import pandas as pd\n",
    "import numpy as np\n",
    "url = \"https://raw.githubusercontent.com/dsrscientist/DSData/master/happiness_score_dataset.csv\"\n",
    "df = pd.read_csv(url)\n",
    "df['first_five_letters'] = df['Country'].str[:6]\n",
    "print(df)"
   ]
  },
  {
   "cell_type": "code",
   "execution_count": 17,
   "id": "3e7b567c-1103-47f1-9f17-80ba273d34be",
   "metadata": {},
   "outputs": [
    {
     "name": "stdout",
     "output_type": "stream",
     "text": [
      "None\n"
     ]
    }
   ],
   "source": [
    "string = \"123dog is free\"\n",
    "pattern = '^[a-zA-Z0-9_]*$'\n",
    "result = re.search(pattern, string)\n",
    "print(result)"
   ]
  },
  {
   "cell_type": "code",
   "execution_count": 19,
   "id": "82885daf-743d-4f0e-9238-79707218eeb5",
   "metadata": {},
   "outputs": [
    {
     "name": "stdout",
     "output_type": "stream",
     "text": [
      "'123' starts with 123: True\n"
     ]
    }
   ],
   "source": [
    "import re\n",
    "string = \"123sum\"\n",
    "def starts_with_number(string, number):\n",
    "    number_str = str(number)\n",
    "    return string.startswith(number_str)\n",
    "specific_number = 123\n",
    "result = starts_with_number(string, specific_number)\n",
    "print(f\"'{text}' starts with {specific_number}: {result}\")"
   ]
  },
  {
   "cell_type": "code",
   "execution_count": 29,
   "id": "3dee14c2-38c4-41de-8585-79e45d032943",
   "metadata": {},
   "outputs": [
    {
     "name": "stdout",
     "output_type": "stream",
     "text": [
      "Original IP: 192.168.001.001 -> Cleaned IP: 192.168.1.1\n"
     ]
    }
   ],
   "source": [
    "def remove_leading_zeros(ip_address):\n",
    "    parts = ip_address.split('.')\n",
    "    cleaned_parts = [str(int(part)) for part in parts]\n",
    "    cleaned_ip_address = '.'.join(cleaned_parts)\n",
    "    return cleaned_ip_address\n",
    "test_ip_address = [ \"192.168.001.001\"]\n",
    "for ip in test_ip_addresses:\n",
    "    result = remove_leading_zeros(ip)\n",
    "    print(f\"Original IP: {ip} -> Cleaned IP: {result}\")"
   ]
  },
  {
   "cell_type": "code",
   "execution_count": 1,
   "id": "13760f98",
   "metadata": {},
   "outputs": [
    {
     "name": "stdout",
     "output_type": "stream",
     "text": [
      "<re.Match object; span=(3, 19), match='August 15th 1947'>\n"
     ]
    }
   ],
   "source": [
    "import re\n",
    "text = \"On August 15th 1947 that India was declared independent from British colonialism, and the reins of control were handed over to the leaders of the Country.\"\n",
    "pattern = r\"\\b([A-Z][a-z]+) \\d{1,2}(?:st|nd|rd|th)? \\d{4}\\b\"\n",
    "matches = re.search(pattern, text)\n",
    "print(matches)"
   ]
  },
  {
   "cell_type": "code",
   "execution_count": 3,
   "id": "8a67c066",
   "metadata": {},
   "outputs": [
    {
     "name": "stdout",
     "output_type": "stream",
     "text": [
      "Using 'in' keyword:\n",
      "'fox' found in text\n",
      "'dog' found in text\n",
      "'horse' not found in text\n"
     ]
    }
   ],
   "source": [
    "text = 'The quick brown fox jumps over the lazy dog.'\n",
    "search_words = ['fox', 'dog', 'horse']\n",
    "print(\"Using 'in' keyword:\")\n",
    "for word in search_words:\n",
    "    if word in text:\n",
    "        print(f\"'{word}' found in text\")\n",
    "    else:\n",
    "        print(f\"'{word}' not found in text\")"
   ]
  },
  {
   "cell_type": "code",
   "execution_count": 4,
   "id": "d25ed24f",
   "metadata": {},
   "outputs": [
    {
     "name": "stdout",
     "output_type": "stream",
     "text": [
      "['fox']\n"
     ]
    }
   ],
   "source": [
    "text = 'The quick brown fox jumps over the lazy dog.'\n",
    "search_words = ['fox']\n",
    "print(search_words)"
   ]
  },
  {
   "cell_type": "code",
   "execution_count": 5,
   "id": "10367636",
   "metadata": {},
   "outputs": [
    {
     "name": "stdout",
     "output_type": "stream",
     "text": [
      "['exercises']\n"
     ]
    }
   ],
   "source": [
    "text = 'Python exercises, PHP exercises, C# exercises'\n",
    "search_words = ['exercises']\n",
    "print(search_words)"
   ]
  },
  {
   "cell_type": "code",
   "execution_count": 6,
   "id": "7ea21ae5",
   "metadata": {},
   "outputs": [
    {
     "name": "stdout",
     "output_type": "stream",
     "text": [
      "Found \"fox\" at 16:19\n"
     ]
    }
   ],
   "source": [
    "text =  'The quick brown fox jumps over the lazy dog.'\n",
    "pattern = 'fox'\n",
    "def find_substring_occurrences(text, pattern):\n",
    "    parts = [(part.start(), part.end()) for part in re.finditer(pattern, text)]\n",
    "    return parts\n",
    "occurrences = find_substring_occurrences(text, pattern)\n",
    "for start, end in occurrences:\n",
    "    print(f'Found \"{pattern}\" at {start}:{end}')"
   ]
  },
  {
   "cell_type": "code",
   "execution_count": 7,
   "id": "1a2b4f07",
   "metadata": {},
   "outputs": [
    {
     "name": "stdout",
     "output_type": "stream",
     "text": [
      "Date: 1998-04-14\n",
      "Convert date: 14-04-1998\n"
     ]
    }
   ],
   "source": [
    "date = \"1998-04-14\"\n",
    "year, month, day = date.split(\"-\")\n",
    "new_date = f\"{day}-{month}-{year}\"\n",
    "print(f\"Date: {date}\")\n",
    "print(f\"Convert date: {new_date}\")"
   ]
  },
  {
   "cell_type": "code",
   "execution_count": 9,
   "id": "7876670f",
   "metadata": {},
   "outputs": [
    {
     "name": "stdout",
     "output_type": "stream",
     "text": [
      "['01.12', '145.8', '3.01', '27.25', '0.25']\n"
     ]
    }
   ],
   "source": [
    "text = \"01.12 0132.123 2.31875 145.8 3.01 27.25 0.25\"\n",
    "def find_decimal_numbers(text):\n",
    "    pattern = re.compile(r'\\b\\d*\\.\\d{1,2}\\b')\n",
    "    result = pattern.findall(text)\n",
    "    return result\n",
    "result = find_decimal_numbers(text)\n",
    "print(result)"
   ]
  },
  {
   "cell_type": "code",
   "execution_count": 15,
   "id": "e4a36985",
   "metadata": {},
   "outputs": [
    {
     "name": "stdout",
     "output_type": "stream",
     "text": [
      "Number \"fox\" at 25:27\n"
     ]
    }
   ],
   "source": [
    "text = \"I am sumant raj and i am 23 year old\"\n",
    "def find_number_and_position(text):\n",
    "    parts = [(part.start(), part.end()) for part in re.finditer(r'\\d+', text)]\n",
    "    return parts\n",
    "position = find_number_and_position(text)\n",
    "for start, end in position:\n",
    "    print(f'Number \"{pattern}\" at {start}:{end}')"
   ]
  },
  {
   "cell_type": "code",
   "execution_count": 17,
   "id": "326e15e6",
   "metadata": {},
   "outputs": [
    {
     "name": "stdout",
     "output_type": "stream",
     "text": [
      "The largest number is: 950\n"
     ]
    }
   ],
   "source": [
    "text = 'My marks in each semester are: 947, 896, 926, 524, 734, 950, 642'\n",
    "def extract_max_number(text):\n",
    "    pattern = re.findall(r'\\d+', text)\n",
    "    result = map(int, pattern)\n",
    "    return max(pattern)\n",
    "print(\"The largest number is:\", extract_max_number(text))"
   ]
  },
  {
   "cell_type": "code",
   "execution_count": 19,
   "id": "757c3676",
   "metadata": {},
   "outputs": [
    {
     "name": "stdout",
     "output_type": "stream",
     "text": [
      "Regular Expression Is An Important Topic In Python\n"
     ]
    }
   ],
   "source": [
    "text = \"RegularExpressionIsAnImportantTopicInPython\"\n",
    "def insert_spaces(text):\n",
    "    pattern = r'([a-z])([A-Z])'\n",
    "    return re.sub(pattern, r'\\1 \\2', text)\n",
    "result = insert_spaces(text)\n",
    "print(result)"
   ]
  },
  {
   "cell_type": "code",
   "execution_count": 20,
   "id": "edaa9146",
   "metadata": {},
   "outputs": [
    {
     "name": "stdout",
     "output_type": "stream",
     "text": [
      "['Hello', 'How', 'Hope', 'You', 'Are', 'Doing', 'Well', 'Did', 'You', 'Know', 'Me', 'Who', 'Am']\n"
     ]
    }
   ],
   "source": [
    "import re\n",
    "text = \"Hello sir! How are you now ? IHopeYouAreDoingWell. DidYouKnowMeWhoIAm?\"\n",
    "pattern = r\"[A-Z][a-z]+\"\n",
    "matches = re.findall(pattern, text)\n",
    "print(matches)"
   ]
  },
  {
   "cell_type": "code",
   "execution_count": 21,
   "id": "b04f09d6",
   "metadata": {},
   "outputs": [
    {
     "name": "stdout",
     "output_type": "stream",
     "text": [
      "Hello hello world\n"
     ]
    }
   ],
   "source": [
    "text = \"Hello hello world world\"\n",
    "pattern = re.sub(r\"\\b(\\w+)( \\1\\b)+\", r\"\\1\", text)\n",
    "print(pattern)"
   ]
  },
  {
   "cell_type": "code",
   "execution_count": 27,
   "id": "aa822254-e1bf-4146-8fb6-2727cb9afe1c",
   "metadata": {},
   "outputs": [
    {
     "name": "stdout",
     "output_type": "stream",
     "text": [
      "String is valid.\n"
     ]
    }
   ],
   "source": [
    "import re\n",
    "text = \"sumant_123\"\n",
    "if re.search(r\"\\w$\", text):\n",
    "    print(\"String is valid.\")\n",
    "else:\n",
    "    print(\"String is invalid.\")"
   ]
  },
  {
   "cell_type": "code",
   "execution_count": 29,
   "id": "67826aa4-08f1-47f3-891b-7d2c58ad7162",
   "metadata": {},
   "outputs": [
    {
     "name": "stdout",
     "output_type": "stream",
     "text": [
      "['#Doltiwal', '#xyzabc', '#Demonetization']\n"
     ]
    }
   ],
   "source": [
    "text = 'RT @kapil_kausik: #Doltiwal I mean #xyzabc is \"hurt\" by #Demonetization as the same has rendered USELESS <ed><U+00A0><U+00BD><ed><U+00B1><U+0089> \"acquired funds\" No wo'\n",
    "hashtags = re.findall(r\"#\\w+\", text)\n",
    "print(hashtags)"
   ]
  },
  {
   "cell_type": "code",
   "execution_count": 48,
   "id": "3e6e6e13-eb07-4366-a264-d8d53247aa98",
   "metadata": {},
   "outputs": [
    {
     "name": "stdout",
     "output_type": "stream",
     "text": [
      "@Jags123456 Bharat band on 28??<ed><ed>Those who  are protesting #demonetization  are all different party leaders\n"
     ]
    }
   ],
   "source": [
    "text = \"@Jags123456 Bharat band on 28??<ed><U+00A0><U+00BD><ed><U+00B8><U+0082>Those who  are protesting #demonetization  are all different party leaders\"\n",
    "pattern = re.sub('<U\\+[\\dA-F]{4}>', '', text)\n",
    "print(pattern)"
   ]
  },
  {
   "cell_type": "code",
   "execution_count": 50,
   "id": "fbb4d54d-f286-4035-b2e3-ff636d7e11eb",
   "metadata": {},
   "outputs": [
    {
     "name": "stdout",
     "output_type": "stream",
     "text": [
      "['12-09-1992', '15-12-1999']\n"
     ]
    }
   ],
   "source": [
    "text = \"Ron was born on 12-09-1992 and he was admitted to school 15-12-1999.\"\n",
    "dates = re.findall(r'\\d{2}-\\d{2}-\\d{4}', text)\n",
    "print(dates)"
   ]
  },
  {
   "cell_type": "code",
   "execution_count": 52,
   "id": "ffd3edc9-5184-4ddf-9006-e5f5d63d0feb",
   "metadata": {},
   "outputs": [
    {
     "name": "stdout",
     "output_type": "stream",
     "text": [
      " following example creates  ArrayList  a capacity   elements. 4 elements   added   ArrayList   ArrayList  trimmed accordingly.\n"
     ]
    }
   ],
   "source": [
    "def remove_short_words(string):\n",
    "    pattern = re.compile(r'\\b\\w{2,4}\\b')\n",
    "    return pattern.sub('', string)\n",
    "text = \"The following example creates an ArrayList with a capacity of 50 elements. 4 elements are then added to the ArrayList and the ArrayList is trimmed accordingly.\"\n",
    "text_without_short_words = remove_short_words(text)\n",
    "print(text_without_short_words)"
   ]
  },
  {
   "cell_type": "code",
   "execution_count": null,
   "id": "d7c9c08f-00e7-4d5b-b253-a48ef10909a1",
   "metadata": {},
   "outputs": [],
   "source": []
  },
  {
   "cell_type": "code",
   "execution_count": null,
   "id": "73a6b04f-42ff-470a-9d8a-6461f9c1d2b7",
   "metadata": {},
   "outputs": [],
   "source": []
  },
  {
   "cell_type": "code",
   "execution_count": null,
   "id": "6c078ad1-e8c0-416d-a260-3822835af399",
   "metadata": {},
   "outputs": [],
   "source": []
  }
 ],
 "metadata": {
  "kernelspec": {
   "display_name": "Python 3 (ipykernel)",
   "language": "python",
   "name": "python3"
  },
  "language_info": {
   "codemirror_mode": {
    "name": "ipython",
    "version": 3
   },
   "file_extension": ".py",
   "mimetype": "text/x-python",
   "name": "python",
   "nbconvert_exporter": "python",
   "pygments_lexer": "ipython3",
   "version": "3.11.7"
  }
 },
 "nbformat": 4,
 "nbformat_minor": 5
}
